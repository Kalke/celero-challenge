{
 "cells": [
  {
   "cell_type": "code",
   "execution_count": null,
   "metadata": {},
   "outputs": [],
   "source": [
    "import requests"
   ]
  },
  {
   "cell_type": "code",
   "execution_count": null,
   "metadata": {},
   "outputs": [],
   "source": [
    "# RETRIEVE BY UNIQUE ID\n",
    "# \"GET /api/challenge/2 HTTP/1.1\" 200 295\n",
    "id_ = \"0\"\n",
    "url_lists = f'http://0.0.0.0:8000/api/challenge/{id_}'\n",
    "\n",
    "get_by_id = requests.get(url_lists)\n",
    "response_get_by_id = get_by_id.json()\n",
    "print(response_get_by_id)"
   ]
  },
  {
   "cell_type": "code",
   "execution_count": null,
   "metadata": {},
   "outputs": [],
   "source": [
    "# UPDATE BY UNIQUE ID\n",
    "# \"PUT /api/challenge/1 HTTP/1.1\" 200 297\n",
    "id_ = \"1\"\n",
    "url_lists = f'http://0.0.0.0:8000/api/challenge/{id_}'\n",
    "\n",
    "payload_update = {\n",
    "    \"unique_id\": 1,\n",
    "    \"id\": 1,\n",
    "    \"name\": \"Henrique Kalke\",\n",
    "    \"sex\": \"M\",\n",
    "    \"age\": 20,\n",
    "    \"height\": 182,\n",
    "    \"weight\": 98,\n",
    "    \"team\": \"Brazil\",\n",
    "    \"noc\": \"BRA\",\n",
    "    \"games\": \"2012 Summer\",\n",
    "    \"year\": 2012,\n",
    "    \"season\" : \"Summer\",\n",
    "    \"city\": \"London\",\n",
    "    \"sport\": \"Basketball\",\n",
    "    \"event\": \"Basketball Men's Basketball\",\n",
    "    \"medal\": \"Silver\"\n",
    "}\n",
    "\n",
    "update = requests.put(url_lists, data=json.dumps(payload_update))\n",
    "# update.json()"
   ]
  },
  {
   "cell_type": "code",
   "execution_count": null,
   "metadata": {},
   "outputs": [],
   "source": [
    "# DELETE BY UNIQUE ID\n",
    "# \"DELETE /api/challenge/15 HTTP/1.1\" 204 69\n",
    "id_ = '15'\n",
    "url_lists = f'http://0.0.0.0:8000/api/challenge/{id_}'\n",
    "\n",
    "delete_by_id = requests.delete(url_lists)\n",
    "response_delete_by_id = delete_by_id.text\n",
    "print(response_delete_by_id)"
   ]
  },
  {
   "cell_type": "code",
   "execution_count": null,
   "metadata": {},
   "outputs": [],
   "source": [
    "# CREATE A NEW ATHLETE EVENT\n",
    "# \"POST /api/challenge HTTP/1.1\" 201 303\n",
    "\n",
    "payload_create = { \n",
    "    \"unique_id\":0,\n",
    "    \"id\": 1,\n",
    "    \"name\": \"Henrique Kalke\",\n",
    "    \"sex\": \"M\",\n",
    "    \"age\": 20,\n",
    "    \"height\": 182,\n",
    "    \"weight\": 98,\n",
    "    \"team\": \"Brazil\",\n",
    "    \"noc\": \"BRA\",\n",
    "    \"games\": \"2012 Summer\",\n",
    "    \"year\": 2012,\n",
    "    \"season\" : \"Summer\",\n",
    "    \"city\": \"London\",\n",
    "    \"sport\": \"Basketball\",\n",
    "    \"event\": \"Basketball Men's Basketball\",\n",
    "    \"medal\": \"Silver\"\n",
    "}\n",
    "\n",
    "url_crud = 'http://0.0.0.0:8000/api/challenge'\n",
    "\n",
    "create = requests.post(url_crud, data=json.dumps(payload_create))\n",
    "\n",
    "create.json()"
   ]
  },
  {
   "cell_type": "code",
   "execution_count": null,
   "metadata": {},
   "outputs": [],
   "source": [
    "# RETRIEVE ALL\n",
    "# \"GET /api/challenge HTTP/1.1\" 200 86329436\n",
    "\n",
    "url_crud = 'http://0.0.0.0:8000/api/challenge'\n",
    "\n",
    "get_all = requests.get(url_crud)\n",
    "response_get_all = get_all.json()\n",
    "# print(response_get_all)"
   ]
  },
  {
   "cell_type": "code",
   "execution_count": null,
   "metadata": {},
   "outputs": [],
   "source": [
    "# DELETE ALL \n",
    "url_crud = 'http://0.0.0.0:8000/api/challenge'\n",
    "delete_all = requests.delete(url_crud)\n",
    "delete_all.json"
   ]
  },
  {
   "cell_type": "code",
   "execution_count": null,
   "metadata": {},
   "outputs": [],
   "source": []
  }
 ],
 "metadata": {
  "kernelspec": {
   "display_name": "Python 3",
   "language": "python",
   "name": "python3"
  },
  "language_info": {
   "codemirror_mode": {
    "name": "ipython",
    "version": 3
   },
   "file_extension": ".py",
   "mimetype": "text/x-python",
   "name": "python",
   "nbconvert_exporter": "python",
   "pygments_lexer": "ipython3",
   "version": "3.8.5"
  }
 },
 "nbformat": 4,
 "nbformat_minor": 4
}
