{
 "cells": [
  {
   "cell_type": "code",
   "execution_count": 1,
   "metadata": {},
   "outputs": [],
   "source": [
    "# POST http://127.0.0.1:8080/api/challenge\n",
    "payload_update = {\n",
    "    \"id\": 1,\n",
    "    \"name\": \"Henrique Kalke\",\n",
    "    \"sex\": \"M\",\n",
    "    \"age\": 20,\n",
    "    \"height\": 182,\n",
    "    \"weight\": 98,\n",
    "    \"team\": \"Brazil\",\n",
    "    \"noc\": \"BRA\",\n",
    "    \"games\": \"2012 Summer\",\n",
    "    \"year\": 2012,\n",
    "    \"season\" : \"Summer\",\n",
    "    \"city\": \"London\",\n",
    "    \"sport\": \"Basketball\",\n",
    "    \"event\": \"Basketball Men's Basketball\",\n",
    "    \"medal\": \"Silver\"\n",
    "}\n",
    "\n",
    "# DELETE http://127.0.0.1:8080/api/challenge\n",
    "# WILL DELETE ALL"
   ]
  },
  {
   "cell_type": "code",
   "execution_count": 8,
   "metadata": {},
   "outputs": [],
   "source": [
    "import requests\n",
    "\n",
    "url = 'http://127.0.0.1:9191/api/challenge/2'\n",
    "\n",
    "a = requests.get(url)"
   ]
  },
  {
   "cell_type": "code",
   "execution_count": 9,
   "metadata": {},
   "outputs": [
    {
     "data": {
      "text/plain": [
       "{'id': 2,\n",
       " 'name': 'A Lamusi',\n",
       " 'sex': 'M',\n",
       " 'age': 23,\n",
       " 'height': 170.0,\n",
       " 'weight': 60.0,\n",
       " 'team': 'China',\n",
       " 'noc': 'CHN',\n",
       " 'games': '2012 Summer',\n",
       " 'year': 2012,\n",
       " 'season': 'Summer',\n",
       " 'city': 'London',\n",
       " 'sport': 'Judo',\n",
       " 'event': \"Judo Men's Extra-Lightweight\",\n",
       " 'medal': None}"
      ]
     },
     "execution_count": 9,
     "metadata": {},
     "output_type": "execute_result"
    }
   ],
   "source": [
    "a.json()"
   ]
  },
  {
   "cell_type": "code",
   "execution_count": null,
   "metadata": {},
   "outputs": [],
   "source": []
  }
 ],
 "metadata": {
  "kernelspec": {
   "display_name": "Python 3",
   "language": "python",
   "name": "python3"
  },
  "language_info": {
   "codemirror_mode": {
    "name": "ipython",
    "version": 3
   },
   "file_extension": ".py",
   "mimetype": "text/x-python",
   "name": "python",
   "nbconvert_exporter": "python",
   "pygments_lexer": "ipython3",
   "version": "3.8.5"
  }
 },
 "nbformat": 4,
 "nbformat_minor": 4
}
