{
 "cells": [
  {
   "cell_type": "code",
   "execution_count": 48,
   "metadata": {},
   "outputs": [],
   "source": [
    "import pandas as pd\n",
    "import psycopg2\n",
    "import os\n",
    "from sqlalchemy import create_engine"
   ]
  },
  {
   "cell_type": "code",
   "execution_count": 60,
   "metadata": {},
   "outputs": [],
   "source": [
    "class UploadDatabase:\n",
    "    def __init__(self):\n",
    "\n",
    "        self.__username = 'postgres'\n",
    "        self.__password = '2009'\n",
    "        self.__host = 'localhost'\n",
    "        self.__port = '5432'\n",
    "        self.__db = 'celero'\n",
    "        self.__schema = 'public'\n",
    "        \n",
    "    def table_exists(self,table_str):\n",
    "        conn = psycopg2.connect(f\"dbname={self.__db} user={self.__username} host={self.__host} password={self.__password}\")\n",
    "        exists = False\n",
    "        try:\n",
    "            cur = conn.cursor()\n",
    "            cur.execute(\"select exists(select relname from pg_class where relname='\" + table_str + \"')\")\n",
    "            exists = cur.fetchone()[0]\n",
    "            cur.close()\n",
    "        except psycopg2.Error as e:\n",
    "            print(e)\n",
    "        return exists\n",
    "\n",
    "    def upload_data(self, path):\n",
    "        for item in os.listdir(path):\n",
    "            table = pd.read_csv(path+item)\n",
    "            item = item.replace('.csv','')\n",
    "            if self.table_exists(item) == False:\n",
    "                print(f'Uploading {item}...')\n",
    "                self.__engine = create_engine(f'postgresql+psycopg2://{self.__username}:{self.__password}@{self.__host}:{self.__port}/{self.__db}')\n",
    "                table.to_sql(name = item, con = self.__engine,\n",
    "                                        schema = self.__schema, if_exists = 'replace',\n",
    "                                        index = False, chunksize = 10)\n",
    "                print(f'Table {item} uploaded.')\n",
    "                return True\n",
    "            else:\n",
    "                print(f'Table {item} already exists.')\n",
    "                pass"
   ]
  },
  {
   "cell_type": "code",
   "execution_count": 50,
   "metadata": {},
   "outputs": [
    {
     "data": {
      "text/plain": [
       "False"
      ]
     },
     "execution_count": 50,
     "metadata": {},
     "output_type": "execute_result"
    }
   ],
   "source": [
    "# conn = psycopg2.connect(f\"dbname={self.__db} user={self.__username} host={self.__host} password={self.__password}\")\n",
    "UploadDatabase().table_exists('henrique')"
   ]
  },
  {
   "cell_type": "code",
   "execution_count": 62,
   "metadata": {},
   "outputs": [
    {
     "name": "stdout",
     "output_type": "stream",
     "text": [
      "Table athlete_events already exists.\n",
      "Uploading noc_regions...\n",
      "Table noc_regions uploaded.\n"
     ]
    },
    {
     "data": {
      "text/plain": [
       "True"
      ]
     },
     "execution_count": 62,
     "metadata": {},
     "output_type": "execute_result"
    }
   ],
   "source": [
    "UploadDatabase().upload_data('/home/henrique/Documentos/celero-challenge/api/resources/')"
   ]
  },
  {
   "cell_type": "code",
   "execution_count": null,
   "metadata": {},
   "outputs": [],
   "source": []
  }
 ],
 "metadata": {
  "kernelspec": {
   "display_name": "Python 3",
   "language": "python",
   "name": "python3"
  },
  "language_info": {
   "codemirror_mode": {
    "name": "ipython",
    "version": 3
   },
   "file_extension": ".py",
   "mimetype": "text/x-python",
   "name": "python",
   "nbconvert_exporter": "python",
   "pygments_lexer": "ipython3",
   "version": "3.8.5"
  }
 },
 "nbformat": 4,
 "nbformat_minor": 4
}
